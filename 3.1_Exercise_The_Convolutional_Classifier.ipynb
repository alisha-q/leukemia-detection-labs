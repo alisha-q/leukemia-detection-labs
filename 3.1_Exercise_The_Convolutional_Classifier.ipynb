{
  "metadata": {
    "kernelspec": {
      "display_name": "Python 3",
      "language": "python",
      "name": "python3"
    },
    "language_info": {
      "name": "python",
      "version": "3.10.13",
      "mimetype": "text/x-python",
      "codemirror_mode": {
        "name": "ipython",
        "version": 3
      },
      "pygments_lexer": "ipython3",
      "nbconvert_exporter": "python",
      "file_extension": ".py"
    },
    "jupytext": {
      "formats": "ipynb,md",
      "split_at_heading": true
    },
    "kaggle": {
      "accelerator": "gpu",
      "dataSources": [
        {
          "sourceId": 1338830,
          "sourceType": "datasetVersion",
          "datasetId": 708136
        },
        {
          "sourceId": 1363948,
          "sourceType": "datasetVersion",
          "datasetId": 701538
        },
        {
          "sourceId": 1495782,
          "sourceType": "datasetVersion",
          "datasetId": 878523
        }
      ],
      "dockerImageVersionId": 30648,
      "isInternetEnabled": false,
      "language": "python",
      "sourceType": "notebook",
      "isGpuEnabled": true
    },
    "colab": {
      "name": "Exercise: The Convolutional Classifier",
      "provenance": [],
      "include_colab_link": true
    }
  },
  "nbformat_minor": 0,
  "nbformat": 4,
  "cells": [
    {
      "cell_type": "markdown",
      "metadata": {
        "id": "view-in-github",
        "colab_type": "text"
      },
      "source": [
        "<a href=\"https://colab.research.google.com/github/alisha-q/leukemia-detection-labs/blob/main/3.1_Exercise_The_Convolutional_Classifier.ipynb\" target=\"_parent\"><img src=\"https://colab.research.google.com/assets/colab-badge.svg\" alt=\"Open In Colab\"/></a>"
      ]
    },
    {
      "source": [
        "# IMPORTANT: RUN THIS CELL IN ORDER TO IMPORT YOUR KAGGLE DATA SOURCES,\n",
        "# THEN FEEL FREE TO DELETE THIS CELL.\n",
        "# NOTE: THIS NOTEBOOK ENVIRONMENT DIFFERS FROM KAGGLE'S PYTHON\n",
        "# ENVIRONMENT SO THERE MAY BE MISSING LIBRARIES USED BY YOUR\n",
        "# NOTEBOOK.\n",
        "import kagglehub\n",
        "ryanholbrook_cv_course_models_path = kagglehub.dataset_download('ryanholbrook/cv-course-models')\n",
        "ryanholbrook_computer_vision_resources_path = kagglehub.dataset_download('ryanholbrook/computer-vision-resources')\n",
        "ryanholbrook_car_or_truck_path = kagglehub.dataset_download('ryanholbrook/car-or-truck')\n",
        "\n",
        "print('Data source import complete.')\n"
      ],
      "metadata": {
        "id": "S5H6T_2sEQR9"
      },
      "cell_type": "code",
      "outputs": [],
      "execution_count": null
    },
    {
      "cell_type": "markdown",
      "source": [
        "**This notebook is an exercise in the [Computer Vision](https://www.kaggle.com/learn/computer-vision) course.  You can reference the tutorial at [this link](https://www.kaggle.com/ryanholbrook/the-convolutional-classifier).**\n",
        "\n",
        "---\n"
      ],
      "metadata": {
        "id": "yE1IxtDoEQR-"
      }
    },
    {
      "cell_type": "markdown",
      "source": [
        "<blockquote style=\"margin-right:auto; margin-left:auto; padding: 1em; margin:24px;\">\n",
        "    <strong>Accelerate Training with a Kaggle GPU!</strong><br>\n",
        "Did you know Kaggle offers free time with a GPU accelerator? You can speed up training neural networks in this course by switching to <strong>GPU</strong> in the <em>Accelerator</em> option on the right. (It may already be turned on.) Two things to be aware of:\n",
        "<ul>\n",
        "<li>Changing the <em>Accelerator</em> option will cause the notebook session to restart. You'll need to rerun any setup code.\n",
        "<li>You can have only one GPU session at a time, so be sure to shut the notebook down after you've finished the exercise.\n",
        "</ul>\n",
        "</blockquote>"
      ],
      "metadata": {
        "id": "X4GH7bR0EQSA"
      }
    },
    {
      "cell_type": "markdown",
      "source": [
        "# Introduction #\n",
        "\n",
        "In the tutorial, we saw how to build an image classifier by attaching a head of dense layers to a pretrained base. The base we used was from a model called **VGG16**. We saw that the VGG16 architecture was prone to overfitting this dataset. Over this course, you'll learn a number of ways you can improve upon this initial attempt.\n",
        "\n",
        "The first way you'll see is to use a base more appropriate to the dataset. The base this model comes from is called **InceptionV1** (also known as GoogLeNet). InceptionV1 was one of the early winners of the ImageNet competition. One of its successors, InceptionV4, is among the state of the art today.\n",
        "\n",
        "To get started, run the code cell below to set everything up."
      ],
      "metadata": {
        "id": "2cGeRlnXEQSB"
      }
    },
    {
      "cell_type": "code",
      "source": [
        "# Setup feedback system\n",
        "from learntools.core import binder\n",
        "binder.bind(globals())\n",
        "from learntools.computer_vision.ex1 import *\n",
        "\n",
        "# Imports\n",
        "import os, warnings\n",
        "import matplotlib.pyplot as plt\n",
        "from matplotlib import gridspec\n",
        "\n",
        "import numpy as np\n",
        "import tensorflow as tf\n",
        "from tensorflow.keras.preprocessing import image_dataset_from_directory\n",
        "\n",
        "# Reproducability\n",
        "def set_seed(seed=31415):\n",
        "    np.random.seed(seed)\n",
        "    tf.random.set_seed(seed)\n",
        "    os.environ['PYTHONHASHSEED'] = str(seed)\n",
        "    os.environ['TF_DETERMINISTIC_OPS'] = '1'\n",
        "set_seed()\n",
        "\n",
        "# Set Matplotlib defaults\n",
        "plt.rc('figure', autolayout=True)\n",
        "plt.rc('axes', labelweight='bold', labelsize='large',\n",
        "       titleweight='bold', titlesize=18, titlepad=10)\n",
        "plt.rc('image', cmap='magma')\n",
        "warnings.filterwarnings(\"ignore\") # to clean up output cells\n",
        "\n",
        "\n",
        "# Load training and validation sets\n",
        "ds_train_ = image_dataset_from_directory(\n",
        "    '../input/car-or-truck/train',\n",
        "    labels='inferred',\n",
        "    label_mode='binary',\n",
        "    image_size=[128, 128],\n",
        "    interpolation='nearest',\n",
        "    batch_size=64,\n",
        "    shuffle=True,\n",
        ")\n",
        "ds_valid_ = image_dataset_from_directory(\n",
        "    '../input/car-or-truck/valid',\n",
        "    labels='inferred',\n",
        "    label_mode='binary',\n",
        "    image_size=[128, 128],\n",
        "    interpolation='nearest',\n",
        "    batch_size=64,\n",
        "    shuffle=False,\n",
        ")\n",
        "\n",
        "# Data Pipeline\n",
        "def convert_to_float(image, label):\n",
        "    image = tf.image.convert_image_dtype(image, dtype=tf.float32)\n",
        "    return image, label\n",
        "\n",
        "AUTOTUNE = tf.data.experimental.AUTOTUNE\n",
        "ds_train = (\n",
        "    ds_train_\n",
        "    .map(convert_to_float)\n",
        "    .cache()\n",
        "    .prefetch(buffer_size=AUTOTUNE)\n",
        ")\n",
        "ds_valid = (\n",
        "    ds_valid_\n",
        "    .map(convert_to_float)\n",
        "    .cache()\n",
        "    .prefetch(buffer_size=AUTOTUNE)\n",
        ")\n"
      ],
      "metadata": {
        "lines_to_next_cell": 2,
        "trusted": true,
        "execution": {
          "iopub.status.busy": "2025-10-25T18:35:02.692137Z",
          "iopub.execute_input": "2025-10-25T18:35:02.692447Z",
          "iopub.status.idle": "2025-10-25T18:35:35.438973Z",
          "shell.execute_reply.started": "2025-10-25T18:35:02.692409Z",
          "shell.execute_reply": "2025-10-25T18:35:35.438262Z"
        },
        "id": "iB50Ib5fEQSB",
        "outputId": "0dca3418-f8f2-4b31-ec35-ac350c046cef"
      },
      "outputs": [
        {
          "name": "stderr",
          "text": "2025-10-25 18:35:05.273052: E external/local_xla/xla/stream_executor/cuda/cuda_dnn.cc:9261] Unable to register cuDNN factory: Attempting to register factory for plugin cuDNN when one has already been registered\n2025-10-25 18:35:05.273177: E external/local_xla/xla/stream_executor/cuda/cuda_fft.cc:607] Unable to register cuFFT factory: Attempting to register factory for plugin cuFFT when one has already been registered\n2025-10-25 18:35:05.417304: E external/local_xla/xla/stream_executor/cuda/cuda_blas.cc:1515] Unable to register cuBLAS factory: Attempting to register factory for plugin cuBLAS when one has already been registered\n",
          "output_type": "stream"
        },
        {
          "name": "stdout",
          "text": "Found 5117 files belonging to 2 classes.\nFound 5051 files belonging to 2 classes.\n",
          "output_type": "stream"
        }
      ],
      "execution_count": null
    },
    {
      "cell_type": "markdown",
      "source": [
        "The **InceptionV1** model pretrained on ImageNet is available in the [TensorFlow Hub](https://www.tensorflow.org/hub/) repository, but we'll load it from a local copy. Run this cell to load InceptionV1 for your base."
      ],
      "metadata": {
        "id": "-SBWwyJHEQSC"
      }
    },
    {
      "cell_type": "code",
      "source": [
        "import tensorflow_hub as hub\n",
        "\n",
        "pretrained_base = tf.keras.models.load_model(\n",
        "    '../input/cv-course-models/cv-course-models/inceptionv1'\n",
        ")"
      ],
      "metadata": {
        "lines_to_next_cell": 0,
        "trusted": true,
        "execution": {
          "iopub.status.busy": "2025-10-25T18:35:35.440559Z",
          "iopub.execute_input": "2025-10-25T18:35:35.440825Z",
          "iopub.status.idle": "2025-10-25T18:35:38.886982Z",
          "shell.execute_reply.started": "2025-10-25T18:35:35.440806Z",
          "shell.execute_reply": "2025-10-25T18:35:38.886264Z"
        },
        "id": "6TzWUu-lEQSD"
      },
      "outputs": [],
      "execution_count": null
    },
    {
      "cell_type": "markdown",
      "source": [
        "# 1) Define Pretrained Base #\n",
        "\n",
        "Now that you have a pretrained base to do our feature extraction, decide whether this base should be trainable or not."
      ],
      "metadata": {
        "id": "kuaWxNzAEQSE"
      }
    },
    {
      "cell_type": "code",
      "source": [
        "# YOUR_CODE_HERE\n",
        "pretrained_base.trainable = False\n",
        "\n",
        "# Check your answer\n",
        "q_1.check()"
      ],
      "metadata": {
        "lines_to_next_cell": 0,
        "trusted": true,
        "execution": {
          "iopub.status.busy": "2025-10-25T18:35:54.228715Z",
          "iopub.execute_input": "2025-10-25T18:35:54.229017Z",
          "iopub.status.idle": "2025-10-25T18:35:54.236733Z",
          "shell.execute_reply.started": "2025-10-25T18:35:54.228996Z",
          "shell.execute_reply": "2025-10-25T18:35:54.235814Z"
        },
        "id": "kZirAW0pEQSE",
        "outputId": "be91e7ba-0f21-433d-d566-f77fb4effb72"
      },
      "outputs": [
        {
          "output_type": "display_data",
          "data": {
            "text/plain": "<IPython.core.display.Javascript object>",
            "application/javascript": "parent.postMessage({\"jupyterEvent\": \"custom.exercise_interaction\", \"data\": {\"outcomeType\": 1, \"valueTowardsCompletion\": 0.25, \"interactionType\": 1, \"questionType\": 2, \"questionId\": \"1_Q1\", \"learnToolsVersion\": \"0.3.4\", \"failureMessage\": \"\", \"exceptionClass\": \"\", \"trace\": \"\"}}, \"*\")"
          },
          "metadata": {}
        },
        {
          "output_type": "display_data",
          "data": {
            "text/plain": "Correct: When doing transfer learning, it's generally not a good idea to retrain the entire base -- at least not without some care. The reason is that the random weights in the head will initially create large gradient updates, which propogate back into the base layers and destroy much of the pretraining. Using techniques known as **fine tuning** it's possible to further train the base on new data, but this requires some care to do well.",
            "text/markdown": "<span style=\"color:#33cc33\">Correct:</span> When doing transfer learning, it's generally not a good idea to retrain the entire base -- at least not without some care. The reason is that the random weights in the head will initially create large gradient updates, which propogate back into the base layers and destroy much of the pretraining. Using techniques known as **fine tuning** it's possible to further train the base on new data, but this requires some care to do well."
          },
          "metadata": {}
        }
      ],
      "execution_count": null
    },
    {
      "cell_type": "code",
      "source": [
        "# Lines below will give you a hint or solution code\n",
        "#q_1.hint()\n",
        "#q_1.solution()"
      ],
      "metadata": {
        "id": "4fLrpgHNEQSF"
      },
      "outputs": [],
      "execution_count": null
    },
    {
      "cell_type": "markdown",
      "source": [
        "# 2) Attach Head #\n",
        "\n",
        "Now that the base is defined to do the feature extraction, create a head of `Dense` layers to perform the classification, following this diagram:\n",
        "\n",
        "<figure>\n",
        "<img src=\"https://storage.googleapis.com/kaggle-media/learn/images/i5VU7Ry.png\" alt=\"Diagram of the dense head.\">\n",
        "</figure>\n"
      ],
      "metadata": {
        "id": "a2WPGq6HEQSF"
      }
    },
    {
      "cell_type": "code",
      "source": [
        "from tensorflow import keras\n",
        "from tensorflow.keras import layers\n",
        "\n",
        "model = keras.Sequential([\n",
        "    pretrained_base,\n",
        "    layers.Flatten(),\n",
        "    layers.Dense(6, activation='relu'),\n",
        "    layers.Dense(1, activation='sigmoid'),\n",
        "])\n",
        "\n",
        "# Check your answer\n",
        "q_2.check()"
      ],
      "metadata": {
        "lines_to_next_cell": 0,
        "trusted": true,
        "execution": {
          "iopub.status.busy": "2025-10-25T18:36:43.01301Z",
          "iopub.execute_input": "2025-10-25T18:36:43.013377Z",
          "iopub.status.idle": "2025-10-25T18:36:43.032107Z",
          "shell.execute_reply.started": "2025-10-25T18:36:43.013351Z",
          "shell.execute_reply": "2025-10-25T18:36:43.03125Z"
        },
        "id": "9mp1uw3XEQSF",
        "outputId": "40904926-b80f-4ba7-9565-ffceac7e7017"
      },
      "outputs": [
        {
          "output_type": "display_data",
          "data": {
            "text/plain": "<IPython.core.display.Javascript object>",
            "application/javascript": "parent.postMessage({\"jupyterEvent\": \"custom.exercise_interaction\", \"data\": {\"outcomeType\": 1, \"valueTowardsCompletion\": 0.25, \"interactionType\": 1, \"questionType\": 2, \"questionId\": \"2_Q2\", \"learnToolsVersion\": \"0.3.4\", \"failureMessage\": \"\", \"exceptionClass\": \"\", \"trace\": \"\"}}, \"*\")"
          },
          "metadata": {}
        },
        {
          "output_type": "display_data",
          "data": {
            "text/plain": "Correct",
            "text/markdown": "<span style=\"color:#33cc33\">Correct</span>"
          },
          "metadata": {}
        }
      ],
      "execution_count": null
    },
    {
      "cell_type": "code",
      "source": [
        "# Lines below will give you a hint or solution code\n",
        "#q_2.hint()\n",
        "#q_2.solution()"
      ],
      "metadata": {
        "id": "ODeAsDvnEQSF"
      },
      "outputs": [],
      "execution_count": null
    },
    {
      "cell_type": "markdown",
      "source": [
        "# 3) Train #\n",
        "\n",
        "Before training a model in Keras, you need to specify an *optimizer* to perform the gradient descent, a *loss function* to be minimized, and (optionally) any *performance metrics*. The optimization algorithm we'll use for this course is called [\"Adam\"](https://keras.io/api/optimizers/adam/), which generally performs well regardless of what kind of problem you're trying to solve.\n",
        "\n",
        "The loss and the metrics, however, need to match the kind of problem you're trying to solve. Our problem is a **binary classification** problem: `Car` coded as 0, and `Truck` coded as 1. Choose an appropriate loss and an appropriate accuracy metric for binary classification."
      ],
      "metadata": {
        "id": "2f9Eo8dTEQSG"
      }
    },
    {
      "cell_type": "code",
      "source": [
        "# YOUR CODE HERE: what loss function should you use for a binary\n",
        "# classification problem? (Your answer for each should be a string.)\n",
        "optimizer = tf.keras.optimizers.Adam(epsilon=0.01)\n",
        "model.compile(\n",
        "    optimizer=optimizer,\n",
        "    loss = 'binary_crossentropy',\n",
        "    metrics=['binary_accuracy'],\n",
        ")\n",
        "\n",
        "# Check your answer\n",
        "q_3.check()"
      ],
      "metadata": {
        "lines_to_next_cell": 0,
        "trusted": true,
        "execution": {
          "iopub.status.busy": "2025-10-25T18:40:52.675317Z",
          "iopub.execute_input": "2025-10-25T18:40:52.675626Z",
          "iopub.status.idle": "2025-10-25T18:40:52.705614Z",
          "shell.execute_reply.started": "2025-10-25T18:40:52.675604Z",
          "shell.execute_reply": "2025-10-25T18:40:52.70469Z"
        },
        "id": "hco37ARsEQSG",
        "outputId": "fe517aaa-3da6-45b8-8156-8d347f848932"
      },
      "outputs": [
        {
          "output_type": "display_data",
          "data": {
            "text/plain": "<IPython.core.display.Javascript object>",
            "application/javascript": "parent.postMessage({\"jupyterEvent\": \"custom.exercise_interaction\", \"data\": {\"outcomeType\": 1, \"valueTowardsCompletion\": 0.25, \"interactionType\": 1, \"questionType\": 2, \"questionId\": \"3_Q3\", \"learnToolsVersion\": \"0.3.4\", \"failureMessage\": \"\", \"exceptionClass\": \"\", \"trace\": \"\"}}, \"*\")"
          },
          "metadata": {}
        },
        {
          "output_type": "display_data",
          "data": {
            "text/plain": "Correct",
            "text/markdown": "<span style=\"color:#33cc33\">Correct</span>"
          },
          "metadata": {}
        }
      ],
      "execution_count": null
    },
    {
      "cell_type": "code",
      "source": [
        "# Lines below will give you a hint or solution code\n",
        "#q_3.hint()\n",
        "#q_3.solution()"
      ],
      "metadata": {
        "lines_to_next_cell": 0,
        "id": "lOQ4X3N0EQSG"
      },
      "outputs": [],
      "execution_count": null
    },
    {
      "cell_type": "code",
      "source": [
        "history = model.fit(\n",
        "    ds_train,\n",
        "    validation_data=ds_valid,\n",
        "    epochs=30,\n",
        ")"
      ],
      "metadata": {
        "trusted": true,
        "execution": {
          "iopub.status.busy": "2025-10-25T18:40:58.242523Z",
          "iopub.execute_input": "2025-10-25T18:40:58.243166Z",
          "iopub.status.idle": "2025-10-25T18:43:01.040294Z",
          "shell.execute_reply.started": "2025-10-25T18:40:58.243138Z",
          "shell.execute_reply": "2025-10-25T18:43:01.039452Z"
        },
        "id": "q5h1byrmEQSG",
        "outputId": "6646ff74-d6b3-4fc6-a1f5-2264ad77e0dd"
      },
      "outputs": [
        {
          "name": "stdout",
          "text": "Epoch 1/30\n",
          "output_type": "stream"
        },
        {
          "name": "stderr",
          "text": "WARNING: All log messages before absl::InitializeLog() is called are written to STDERR\nI0000 00:00:1761417665.739456     103 device_compiler.h:186] Compiled cluster using XLA!  This line is logged at most once for the lifetime of the process.\n",
          "output_type": "stream"
        },
        {
          "name": "stdout",
          "text": "80/80 [==============================] - 25s 213ms/step - loss: 0.6008 - binary_accuracy: 0.6701 - val_loss: 0.4509 - val_binary_accuracy: 0.7969\nEpoch 2/30\n80/80 [==============================] - 3s 43ms/step - loss: 0.4302 - binary_accuracy: 0.8052 - val_loss: 0.4060 - val_binary_accuracy: 0.8238\nEpoch 3/30\n80/80 [==============================] - 3s 42ms/step - loss: 0.3954 - binary_accuracy: 0.8226 - val_loss: 0.3916 - val_binary_accuracy: 0.8321\nEpoch 4/30\n80/80 [==============================] - 3s 42ms/step - loss: 0.3767 - binary_accuracy: 0.8343 - val_loss: 0.3830 - val_binary_accuracy: 0.8369\nEpoch 5/30\n80/80 [==============================] - 3s 42ms/step - loss: 0.3631 - binary_accuracy: 0.8415 - val_loss: 0.3767 - val_binary_accuracy: 0.8367\nEpoch 6/30\n80/80 [==============================] - 3s 43ms/step - loss: 0.3521 - binary_accuracy: 0.8470 - val_loss: 0.3719 - val_binary_accuracy: 0.8392\nEpoch 7/30\n80/80 [==============================] - 3s 43ms/step - loss: 0.3426 - binary_accuracy: 0.8517 - val_loss: 0.3676 - val_binary_accuracy: 0.8418\nEpoch 8/30\n80/80 [==============================] - 3s 42ms/step - loss: 0.3345 - binary_accuracy: 0.8568 - val_loss: 0.3646 - val_binary_accuracy: 0.8434\nEpoch 9/30\n80/80 [==============================] - 3s 43ms/step - loss: 0.3270 - binary_accuracy: 0.8618 - val_loss: 0.3621 - val_binary_accuracy: 0.8458\nEpoch 10/30\n80/80 [==============================] - 3s 43ms/step - loss: 0.3203 - binary_accuracy: 0.8667 - val_loss: 0.3608 - val_binary_accuracy: 0.8452\nEpoch 11/30\n80/80 [==============================] - 3s 42ms/step - loss: 0.3143 - binary_accuracy: 0.8698 - val_loss: 0.3593 - val_binary_accuracy: 0.8472\nEpoch 12/30\n80/80 [==============================] - 3s 43ms/step - loss: 0.3086 - binary_accuracy: 0.8716 - val_loss: 0.3568 - val_binary_accuracy: 0.8495\nEpoch 13/30\n80/80 [==============================] - 3s 42ms/step - loss: 0.3029 - binary_accuracy: 0.8738 - val_loss: 0.3546 - val_binary_accuracy: 0.8507\nEpoch 14/30\n80/80 [==============================] - 3s 43ms/step - loss: 0.2976 - binary_accuracy: 0.8755 - val_loss: 0.3529 - val_binary_accuracy: 0.8503\nEpoch 15/30\n80/80 [==============================] - 3s 43ms/step - loss: 0.2928 - binary_accuracy: 0.8767 - val_loss: 0.3503 - val_binary_accuracy: 0.8527\nEpoch 16/30\n80/80 [==============================] - 3s 43ms/step - loss: 0.2878 - binary_accuracy: 0.8806 - val_loss: 0.3485 - val_binary_accuracy: 0.8539\nEpoch 17/30\n80/80 [==============================] - 3s 42ms/step - loss: 0.2831 - binary_accuracy: 0.8825 - val_loss: 0.3464 - val_binary_accuracy: 0.8553\nEpoch 18/30\n80/80 [==============================] - 3s 43ms/step - loss: 0.2787 - binary_accuracy: 0.8839 - val_loss: 0.3462 - val_binary_accuracy: 0.8557\nEpoch 19/30\n80/80 [==============================] - 3s 42ms/step - loss: 0.2747 - binary_accuracy: 0.8861 - val_loss: 0.3472 - val_binary_accuracy: 0.8559\nEpoch 20/30\n80/80 [==============================] - 3s 43ms/step - loss: 0.2707 - binary_accuracy: 0.8894 - val_loss: 0.3439 - val_binary_accuracy: 0.8575\nEpoch 21/30\n80/80 [==============================] - 3s 43ms/step - loss: 0.2672 - binary_accuracy: 0.8919 - val_loss: 0.3443 - val_binary_accuracy: 0.8575\nEpoch 22/30\n80/80 [==============================] - 3s 42ms/step - loss: 0.2635 - binary_accuracy: 0.8935 - val_loss: 0.3452 - val_binary_accuracy: 0.8578\nEpoch 23/30\n80/80 [==============================] - 3s 42ms/step - loss: 0.2600 - binary_accuracy: 0.8960 - val_loss: 0.3449 - val_binary_accuracy: 0.8598\nEpoch 24/30\n80/80 [==============================] - 3s 42ms/step - loss: 0.2564 - binary_accuracy: 0.8980 - val_loss: 0.3456 - val_binary_accuracy: 0.8592\nEpoch 25/30\n80/80 [==============================] - 3s 42ms/step - loss: 0.2525 - binary_accuracy: 0.8999 - val_loss: 0.3405 - val_binary_accuracy: 0.8610\nEpoch 26/30\n80/80 [==============================] - 3s 42ms/step - loss: 0.2492 - binary_accuracy: 0.9013 - val_loss: 0.3449 - val_binary_accuracy: 0.8598\nEpoch 27/30\n80/80 [==============================] - 3s 42ms/step - loss: 0.2458 - binary_accuracy: 0.9023 - val_loss: 0.3417 - val_binary_accuracy: 0.8606\nEpoch 28/30\n80/80 [==============================] - 3s 42ms/step - loss: 0.2427 - binary_accuracy: 0.9037 - val_loss: 0.3404 - val_binary_accuracy: 0.8606\nEpoch 29/30\n80/80 [==============================] - 3s 42ms/step - loss: 0.2399 - binary_accuracy: 0.9037 - val_loss: 0.3471 - val_binary_accuracy: 0.8600\nEpoch 30/30\n80/80 [==============================] - 3s 42ms/step - loss: 0.2379 - binary_accuracy: 0.9042 - val_loss: 0.3471 - val_binary_accuracy: 0.8610\n",
          "output_type": "stream"
        }
      ],
      "execution_count": null
    },
    {
      "cell_type": "markdown",
      "source": [
        "Run the cell below to plot the loss and metric curves for this training run."
      ],
      "metadata": {
        "id": "2UeZKWEREQSH"
      }
    },
    {
      "cell_type": "code",
      "source": [
        "import pandas as pd\n",
        "history_frame = pd.DataFrame(history.history)\n",
        "history_frame.loc[:, ['loss', 'val_loss']].plot()\n",
        "history_frame.loc[:, ['binary_accuracy', 'val_binary_accuracy']].plot();"
      ],
      "metadata": {
        "trusted": true,
        "execution": {
          "iopub.status.busy": "2025-10-25T18:43:04.565996Z",
          "iopub.execute_input": "2025-10-25T18:43:04.566687Z",
          "iopub.status.idle": "2025-10-25T18:43:05.089521Z",
          "shell.execute_reply.started": "2025-10-25T18:43:04.566659Z",
          "shell.execute_reply": "2025-10-25T18:43:05.088652Z"
        },
        "id": "mv1w17XiEQSH",
        "outputId": "7c1b7ad2-e649-4b8b-87f7-049c565fbac9"
      },
      "outputs": [
        {
          "output_type": "display_data",
          "data": {
            "text/plain": "<Figure size 640x480 with 1 Axes>",
            "image/png": "[encoded data removed]"
          },
          "metadata": {}
        },
        {
          "output_type": "display_data",
          "data": {
            "text/plain": "<Figure size 640x480 with 1 Axes>",
            "image/png": "[encoded data removed]"
          },
          "metadata": {}
        }
      ],
      "execution_count": null
    },
    {
      "cell_type": "markdown",
      "source": [
        "# 4) Examine Loss and Accuracy #\n",
        "\n",
        "Do you notice a difference between these learning curves and the curves for VGG16 from the tutorial? What does this difference tell you about what this model (InceptionV2) learned compared to VGG16? Are there ways in which one is better than the other? Worse?\n",
        "\n",
        "After you've thought about it, run the cell below to see the answer."
      ],
      "metadata": {
        "id": "KSVrFSfEEQSH"
      }
    },
    {
      "cell_type": "code",
      "source": [
        "# View the solution (Run this code cell to receive credit!)\n",
        "q_4.check()"
      ],
      "metadata": {
        "trusted": true,
        "execution": {
          "iopub.status.busy": "2025-10-25T18:43:15.463665Z",
          "iopub.execute_input": "2025-10-25T18:43:15.464482Z",
          "iopub.status.idle": "2025-10-25T18:43:15.47142Z",
          "shell.execute_reply.started": "2025-10-25T18:43:15.464454Z",
          "shell.execute_reply": "2025-10-25T18:43:15.470518Z"
        },
        "id": "-PeZhKHWEQSH",
        "outputId": "53b01a7d-0947-4f85-db4e-ece17f2b761c"
      },
      "outputs": [
        {
          "output_type": "display_data",
          "data": {
            "text/plain": "<IPython.core.display.Javascript object>",
            "application/javascript": "parent.postMessage({\"jupyterEvent\": \"custom.exercise_interaction\", \"data\": {\"outcomeType\": 1, \"valueTowardsCompletion\": 0.25, \"interactionType\": 1, \"questionType\": 4, \"questionId\": \"4_Q4\", \"learnToolsVersion\": \"0.3.4\", \"failureMessage\": \"\", \"exceptionClass\": \"\", \"trace\": \"\"}}, \"*\")"
          },
          "metadata": {}
        },
        {
          "output_type": "display_data",
          "data": {
            "text/plain": "Correct: \n\nThat the training loss and validation loss stay fairly close is evidence that the model isn't just memorizing the training data, but rather learning general properties of the two classes. But, because this model converges at a loss greater than the VGG16 model, it's likely that it is underfitting some, and could benefit from some extra capacity.",
            "text/markdown": "<span style=\"color:#33cc33\">Correct:</span> \n\nThat the training loss and validation loss stay fairly close is evidence that the model isn't just memorizing the training data, but rather learning general properties of the two classes. But, because this model converges at a loss greater than the VGG16 model, it's likely that it is underfitting some, and could benefit from some extra capacity.\n"
          },
          "metadata": {}
        }
      ],
      "execution_count": null
    },
    {
      "cell_type": "markdown",
      "source": [
        "# Conclusion #\n",
        "\n",
        "In this first lesson, you learned the basics of **convolutional image classifiers**, that they consist of a **base** for extracting features from images, and a **head** which uses the features to decide the image's class. You also saw how to build a classifier with **transfer learning** on pretrained base."
      ],
      "metadata": {
        "id": "ZT2IrXUDEQSH"
      }
    },
    {
      "cell_type": "markdown",
      "source": [
        "# Keep Going #\n",
        "\n",
        "Move on to [**Lesson 2**](https://www.kaggle.com/ryanholbrook/convolution-and-relu) for a detailed look at how the base does this feature extraction. (It's really cool!)"
      ],
      "metadata": {
        "id": "RLKNUXTeEQSH"
      }
    },
    {
      "cell_type": "markdown",
      "source": [
        "---\n",
        "\n",
        "\n",
        "\n",
        "\n",
        "*Have questions or comments? Visit the [course discussion forum](https://www.kaggle.com/learn/computer-vision/discussion) to chat with other learners.*"
      ],
      "metadata": {
        "id": "NAWdRiwAEQSH"
      }
    }
  ]
}