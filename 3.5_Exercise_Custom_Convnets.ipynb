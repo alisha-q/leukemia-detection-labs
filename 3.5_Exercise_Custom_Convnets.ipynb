{
  "metadata": {
    "kernelspec": {
      "display_name": "Python 3",
      "language": "python",
      "name": "python3"
    },
    "language_info": {
      "name": "python",
      "version": "3.10.13",
      "mimetype": "text/x-python",
      "codemirror_mode": {
        "name": "ipython",
        "version": 3
      },
      "pygments_lexer": "ipython3",
      "nbconvert_exporter": "python",
      "file_extension": ".py"
    },
    "jupytext": {
      "formats": "md,ipynb"
    },
    "kaggle": {
      "accelerator": "gpu",
      "dataSources": [
        {
          "sourceId": 1338830,
          "sourceType": "datasetVersion",
          "datasetId": 708136
        },
        {
          "sourceId": 1363948,
          "sourceType": "datasetVersion",
          "datasetId": 701538
        },
        {
          "sourceId": 1495782,
          "sourceType": "datasetVersion",
          "datasetId": 878523
        }
      ],
      "dockerImageVersionId": 30648,
      "isInternetEnabled": false,
      "language": "python",
      "sourceType": "notebook",
      "isGpuEnabled": true
    },
    "colab": {
      "name": "Exercise: Custom Convnets",
      "provenance": [],
      "include_colab_link": true
    }
  },
  "nbformat_minor": 0,
  "nbformat": 4,
  "cells": [
    {
      "cell_type": "markdown",
      "metadata": {
        "id": "view-in-github",
        "colab_type": "text"
      },
      "source": [
        "<a href=\"https://colab.research.google.com/github/alisha-q/leukemia-detection-labs/blob/main/3.5_Exercise_Custom_Convnets.ipynb\" target=\"_parent\"><img src=\"https://colab.research.google.com/assets/colab-badge.svg\" alt=\"Open In Colab\"/></a>"
      ]
    },
    {
      "source": [
        "# IMPORTANT: RUN THIS CELL IN ORDER TO IMPORT YOUR KAGGLE DATA SOURCES,\n",
        "# THEN FEEL FREE TO DELETE THIS CELL.\n",
        "# NOTE: THIS NOTEBOOK ENVIRONMENT DIFFERS FROM KAGGLE'S PYTHON\n",
        "# ENVIRONMENT SO THERE MAY BE MISSING LIBRARIES USED BY YOUR\n",
        "# NOTEBOOK.\n",
        "import kagglehub\n",
        "ryanholbrook_cv_course_models_path = kagglehub.dataset_download('ryanholbrook/cv-course-models')\n",
        "ryanholbrook_computer_vision_resources_path = kagglehub.dataset_download('ryanholbrook/computer-vision-resources')\n",
        "ryanholbrook_car_or_truck_path = kagglehub.dataset_download('ryanholbrook/car-or-truck')\n",
        "\n",
        "print('Data source import complete.')\n"
      ],
      "metadata": {
        "id": "AW0EWx0khDkx"
      },
      "cell_type": "code",
      "outputs": [],
      "execution_count": null
    },
    {
      "cell_type": "markdown",
      "source": [
        "**This notebook is an exercise in the [Computer Vision](https://www.kaggle.com/learn/computer-vision) course.  You can reference the tutorial at [this link](https://www.kaggle.com/ryanholbrook/custom-convnets).**\n",
        "\n",
        "---\n"
      ],
      "metadata": {
        "id": "0QXn8K_YhDk1"
      }
    },
    {
      "cell_type": "markdown",
      "source": [
        "# Introduction #\n",
        "\n",
        "In these exercises, you'll build a custom convnet with performance competitive to the VGG16 model from Lesson 1.\n",
        "\n",
        "Get started by running the code cell below."
      ],
      "metadata": {
        "id": "kUksBApEhDk3"
      }
    },
    {
      "cell_type": "code",
      "source": [
        "# Setup feedback system\n",
        "from learntools.core import binder\n",
        "binder.bind(globals())\n",
        "from learntools.computer_vision.ex5 import *\n",
        "\n",
        "# Imports\n",
        "import os, warnings\n",
        "import matplotlib.pyplot as plt\n",
        "from matplotlib import gridspec\n",
        "\n",
        "import numpy as np\n",
        "import tensorflow as tf\n",
        "from tensorflow.keras.preprocessing import image_dataset_from_directory\n",
        "\n",
        "# Reproducability\n",
        "def set_seed(seed=31415):\n",
        "    np.random.seed(seed)\n",
        "    tf.random.set_seed(seed)\n",
        "    os.environ['PYTHONHASHSEED'] = str(seed)\n",
        "    os.environ['TF_DETERMINISTIC_OPS'] = '1'\n",
        "set_seed()\n",
        "\n",
        "# Set Matplotlib defaults\n",
        "plt.rc('figure', autolayout=True)\n",
        "plt.rc('axes', labelweight='bold', labelsize='large',\n",
        "       titleweight='bold', titlesize=18, titlepad=10)\n",
        "plt.rc('image', cmap='magma')\n",
        "warnings.filterwarnings(\"ignore\") # to clean up output cells\n",
        "\n",
        "\n",
        "# Load training and validation sets\n",
        "ds_train_ = image_dataset_from_directory(\n",
        "    '../input/car-or-truck/train',\n",
        "    labels='inferred',\n",
        "    label_mode='binary',\n",
        "    image_size=[128, 128],\n",
        "    interpolation='nearest',\n",
        "    batch_size=64,\n",
        "    shuffle=True,\n",
        ")\n",
        "ds_valid_ = image_dataset_from_directory(\n",
        "    '../input/car-or-truck/valid',\n",
        "    labels='inferred',\n",
        "    label_mode='binary',\n",
        "    image_size=[128, 128],\n",
        "    interpolation='nearest',\n",
        "    batch_size=64,\n",
        "    shuffle=False,\n",
        ")\n",
        "\n",
        "# Data Pipeline\n",
        "def convert_to_float(image, label):\n",
        "    image = tf.image.convert_image_dtype(image, dtype=tf.float32)\n",
        "    return image, label\n",
        "\n",
        "AUTOTUNE = tf.data.experimental.AUTOTUNE\n",
        "ds_train = (\n",
        "    ds_train_\n",
        "    .map(convert_to_float)\n",
        "    .cache()\n",
        "    .prefetch(buffer_size=AUTOTUNE)\n",
        ")\n",
        "ds_valid = (\n",
        "    ds_valid_\n",
        "    .map(convert_to_float)\n",
        "    .cache()\n",
        "    .prefetch(buffer_size=AUTOTUNE)\n",
        ")\n"
      ],
      "metadata": {
        "trusted": true,
        "execution": {
          "iopub.status.busy": "2025-10-28T15:35:35.456494Z",
          "iopub.execute_input": "2025-10-28T15:35:35.456736Z",
          "iopub.status.idle": "2025-10-28T15:36:08.823547Z",
          "shell.execute_reply.started": "2025-10-28T15:35:35.456715Z",
          "shell.execute_reply": "2025-10-28T15:36:08.822814Z"
        },
        "id": "3HS4hGvLhDk4",
        "outputId": "6aa66dd7-22c6-41a3-e5b7-dbd0cfa88ba6"
      },
      "outputs": [
        {
          "name": "stderr",
          "text": "2025-10-28 15:35:38.005095: E external/local_xla/xla/stream_executor/cuda/cuda_dnn.cc:9261] Unable to register cuDNN factory: Attempting to register factory for plugin cuDNN when one has already been registered\n2025-10-28 15:35:38.005207: E external/local_xla/xla/stream_executor/cuda/cuda_fft.cc:607] Unable to register cuFFT factory: Attempting to register factory for plugin cuFFT when one has already been registered\n2025-10-28 15:35:38.124911: E external/local_xla/xla/stream_executor/cuda/cuda_blas.cc:1515] Unable to register cuBLAS factory: Attempting to register factory for plugin cuBLAS when one has already been registered\n",
          "output_type": "stream"
        },
        {
          "name": "stdout",
          "text": "Found 5117 files belonging to 2 classes.\nFound 5051 files belonging to 2 classes.\n",
          "output_type": "stream"
        }
      ],
      "execution_count": null
    },
    {
      "cell_type": "markdown",
      "source": [
        "# Design a Convnet #\n",
        "\n",
        "Let's design a convolutional network with a block architecture like we saw in the tutorial. The model from the example had three blocks, each with a single convolutional layer. Its performance on the \"Car or Truck\" problem was okay, but far from what the pretrained VGG16 could achieve. It might be that our simple network lacks the ability to extract sufficiently complex features. We could try improving the model either by adding more blocks or by adding convolutions to the blocks we have.\n",
        "\n",
        "Let's go with the second approach. We'll keep the three block structure, but increase the number of `Conv2D` layer in the second block to two, and in the third block to three.\n",
        "\n",
        "<figure>\n",
        "<!-- <img src=\"./images/2-convmodel-2.png\" width=\"250\" alt=\"Diagram of a convolutional model.\"> -->\n",
        "<img src=\"https://storage.googleapis.com/kaggle-media/learn/images/Vko6nCK.png\" width=\"250\" alt=\"Diagram of a convolutional model.\">\n",
        "</figure>\n",
        "\n",
        "# 1) Define Model #\n",
        "\n",
        "Given the diagram above, complete the model by defining the layers of the third block."
      ],
      "metadata": {
        "id": "gBMXzrMHhDk6"
      }
    },
    {
      "cell_type": "code",
      "source": [
        "from tensorflow import keras\n",
        "from tensorflow.keras import layers\n",
        "\n",
        "model = keras.Sequential([\n",
        "    # Block One\n",
        "    layers.Conv2D(filters=32, kernel_size=3, activation='relu', padding='same',\n",
        "                  input_shape=[128, 128, 3]),\n",
        "    layers.MaxPool2D(),\n",
        "\n",
        "    # Block Two\n",
        "    layers.Conv2D(filters=64, kernel_size=3, activation='relu', padding='same'),\n",
        "    layers.MaxPool2D(),\n",
        "\n",
        "    # Block Three\n",
        "    layers.Conv2D(filters=128, kernel_size=3, activation=\"relu\", padding='same'),\n",
        "    layers.Conv2D(filters=128, kernel_size=3, activation=\"relu\", padding='same'),\n",
        "    layers.MaxPool2D(),\n",
        "\n",
        "    # Head\n",
        "    layers.Flatten(),\n",
        "    layers.Dense(6, activation='relu'),\n",
        "    layers.Dropout(0.2),\n",
        "    layers.Dense(1, activation='sigmoid'),\n",
        "])\n",
        "\n",
        "# Check your answer\n",
        "q_1.check()"
      ],
      "metadata": {
        "lines_to_next_cell": 0,
        "trusted": true,
        "execution": {
          "iopub.status.busy": "2025-10-28T15:44:14.516831Z",
          "iopub.execute_input": "2025-10-28T15:44:14.517163Z",
          "iopub.status.idle": "2025-10-28T15:44:14.621383Z",
          "shell.execute_reply.started": "2025-10-28T15:44:14.517138Z",
          "shell.execute_reply": "2025-10-28T15:44:14.620259Z"
        },
        "id": "Wz7kF53ahDk6",
        "outputId": "4ca82b1b-44e5-427d-d20b-6df104246b43"
      },
      "outputs": [
        {
          "output_type": "display_data",
          "data": {
            "text/plain": "<IPython.core.display.Javascript object>",
            "application/javascript": "parent.postMessage({\"jupyterEvent\": \"custom.exercise_interaction\", \"data\": {\"outcomeType\": 1, \"valueTowardsCompletion\": 0.3333333333333333, \"interactionType\": 1, \"questionType\": 2, \"questionId\": \"1_Q1\", \"learnToolsVersion\": \"0.3.4\", \"failureMessage\": \"\", \"exceptionClass\": \"\", \"trace\": \"\"}}, \"*\")"
          },
          "metadata": {}
        },
        {
          "output_type": "display_data",
          "data": {
            "text/plain": "Correct",
            "text/markdown": "<span style=\"color:#33cc33\">Correct</span>"
          },
          "metadata": {}
        }
      ],
      "execution_count": null
    },
    {
      "cell_type": "code",
      "source": [
        "# Lines below will give you a hint or solution code\n",
        "#q_1.hint()\n",
        "#q_1.solution()"
      ],
      "metadata": {
        "id": "j17FQb7qhDk6"
      },
      "outputs": [],
      "execution_count": null
    },
    {
      "cell_type": "markdown",
      "source": [
        "# 2) Compile #\n",
        "\n",
        "To prepare for training, compile the model with an appropriate loss and accuracy metric for the \"Car or Truck\" dataset."
      ],
      "metadata": {
        "id": "kVO9sjS_hDk7"
      }
    },
    {
      "cell_type": "code",
      "source": [
        "model.compile(\n",
        "    optimizer=tf.keras.optimizers.Adam(epsilon=0.01),\n",
        "    loss='binary_crossentropy',\n",
        "    metrics=['binary_accuracy']\n",
        ")\n",
        "\n",
        "# Check your answer\n",
        "q_2.check()"
      ],
      "metadata": {
        "lines_to_next_cell": 0,
        "trusted": true,
        "execution": {
          "iopub.status.busy": "2025-10-28T15:44:40.60803Z",
          "iopub.execute_input": "2025-10-28T15:44:40.609008Z",
          "iopub.status.idle": "2025-10-28T15:44:40.631055Z",
          "shell.execute_reply.started": "2025-10-28T15:44:40.608964Z",
          "shell.execute_reply": "2025-10-28T15:44:40.630282Z"
        },
        "id": "rY75Y3jqhDk7",
        "outputId": "28966799-0ac0-4331-e6bf-c475bb72294f"
      },
      "outputs": [
        {
          "output_type": "display_data",
          "data": {
            "text/plain": "<IPython.core.display.Javascript object>",
            "application/javascript": "parent.postMessage({\"jupyterEvent\": \"custom.exercise_interaction\", \"data\": {\"outcomeType\": 1, \"valueTowardsCompletion\": 0.3333333333333333, \"interactionType\": 1, \"questionType\": 2, \"questionId\": \"2_Q2\", \"learnToolsVersion\": \"0.3.4\", \"failureMessage\": \"\", \"exceptionClass\": \"\", \"trace\": \"\"}}, \"*\")"
          },
          "metadata": {}
        },
        {
          "output_type": "display_data",
          "data": {
            "text/plain": "Correct",
            "text/markdown": "<span style=\"color:#33cc33\">Correct</span>"
          },
          "metadata": {}
        }
      ],
      "execution_count": null
    },
    {
      "cell_type": "code",
      "source": [
        "model.compile(\n",
        "    optimizer=tf.keras.optimizers.Adam(epsilon=0.01),\n",
        "    loss='binary_crossentropy',\n",
        "    metrics=['binary_accuracy'],\n",
        ")\n",
        "q_2.assert_check_passed()"
      ],
      "metadata": {
        "lines_to_next_cell": 0,
        "trusted": true,
        "execution": {
          "iopub.status.busy": "2025-10-28T15:44:46.092676Z",
          "iopub.execute_input": "2025-10-28T15:44:46.093022Z",
          "iopub.status.idle": "2025-10-28T15:44:46.108272Z",
          "shell.execute_reply.started": "2025-10-28T15:44:46.092995Z",
          "shell.execute_reply": "2025-10-28T15:44:46.107268Z"
        },
        "id": "NjlVJJNehDk8",
        "outputId": "53cad2a1-bf69-4fa4-d8f1-413bf6d1301e"
      },
      "outputs": [
        {
          "output_type": "display_data",
          "data": {
            "text/plain": "<IPython.core.display.Javascript object>",
            "application/javascript": "parent.postMessage({\"jupyterEvent\": \"custom.exercise_interaction\", \"data\": {\"outcomeType\": 1, \"valueTowardsCompletion\": 0.3333333333333333, \"interactionType\": 1, \"questionType\": 2, \"questionId\": \"2_Q2\", \"learnToolsVersion\": \"0.3.4\", \"failureMessage\": \"\", \"exceptionClass\": \"\", \"trace\": \"\"}}, \"*\")"
          },
          "metadata": {}
        },
        {
          "output_type": "display_data",
          "data": {
            "text/plain": "Correct",
            "text/markdown": "<span style=\"color:#33cc33\">Correct</span>"
          },
          "metadata": {}
        }
      ],
      "execution_count": null
    },
    {
      "cell_type": "code",
      "source": [
        "# Lines below will give you a hint or solution code\n",
        "#q_2.hint()\n",
        "#q_2.solution()"
      ],
      "metadata": {
        "lines_to_next_cell": 0,
        "id": "ry5HppJphDk8"
      },
      "outputs": [],
      "execution_count": null
    },
    {
      "cell_type": "markdown",
      "source": [
        "Finally, let's test the performance of this new model. First run this cell to fit the model to the training set."
      ],
      "metadata": {
        "id": "Z6eWibIihDk8"
      }
    },
    {
      "cell_type": "code",
      "source": [
        "history = model.fit(\n",
        "    ds_train,\n",
        "    validation_data=ds_valid,\n",
        "    epochs=50,\n",
        ")"
      ],
      "metadata": {
        "trusted": true,
        "execution": {
          "iopub.status.busy": "2025-10-28T15:45:06.227348Z",
          "iopub.execute_input": "2025-10-28T15:45:06.227829Z",
          "iopub.status.idle": "2025-10-28T15:48:16.407781Z",
          "shell.execute_reply.started": "2025-10-28T15:45:06.227799Z",
          "shell.execute_reply": "2025-10-28T15:48:16.406935Z"
        },
        "id": "f36txlQmhDk9",
        "outputId": "46c7ae80-33b0-4a9a-c006-b91924fa0845"
      },
      "outputs": [
        {
          "name": "stdout",
          "text": "Epoch 1/50\n",
          "output_type": "stream"
        },
        {
          "name": "stderr",
          "text": "WARNING: All log messages before absl::InitializeLog() is called are written to STDERR\nI0000 00:00:1761666311.095610     103 device_compiler.h:186] Compiled cluster using XLA!  This line is logged at most once for the lifetime of the process.\n",
          "output_type": "stream"
        },
        {
          "name": "stdout",
          "text": "80/80 [==============================] - 27s 266ms/step - loss: 0.6806 - binary_accuracy: 0.5769 - val_loss: 0.6722 - val_binary_accuracy: 0.5785\nEpoch 2/50\n80/80 [==============================] - 3s 42ms/step - loss: 0.6655 - binary_accuracy: 0.5785 - val_loss: 0.6597 - val_binary_accuracy: 0.5785\nEpoch 3/50\n80/80 [==============================] - 3s 42ms/step - loss: 0.6588 - binary_accuracy: 0.5794 - val_loss: 0.6523 - val_binary_accuracy: 0.5785\nEpoch 4/50\n80/80 [==============================] - 3s 42ms/step - loss: 0.6553 - binary_accuracy: 0.5961 - val_loss: 0.6461 - val_binary_accuracy: 0.6187\nEpoch 5/50\n80/80 [==============================] - 3s 42ms/step - loss: 0.6485 - binary_accuracy: 0.6232 - val_loss: 0.6415 - val_binary_accuracy: 0.6040\nEpoch 6/50\n80/80 [==============================] - 3s 42ms/step - loss: 0.6403 - binary_accuracy: 0.6346 - val_loss: 0.6387 - val_binary_accuracy: 0.6163\nEpoch 7/50\n80/80 [==============================] - 3s 41ms/step - loss: 0.6341 - binary_accuracy: 0.6369 - val_loss: 0.6307 - val_binary_accuracy: 0.6405\nEpoch 8/50\n80/80 [==============================] - 3s 42ms/step - loss: 0.6286 - binary_accuracy: 0.6512 - val_loss: 0.6294 - val_binary_accuracy: 0.6403\nEpoch 9/50\n80/80 [==============================] - 3s 42ms/step - loss: 0.6237 - binary_accuracy: 0.6660 - val_loss: 0.6291 - val_binary_accuracy: 0.6183\nEpoch 10/50\n80/80 [==============================] - 3s 42ms/step - loss: 0.6110 - binary_accuracy: 0.6754 - val_loss: 0.6070 - val_binary_accuracy: 0.6739\nEpoch 11/50\n80/80 [==============================] - 3s 42ms/step - loss: 0.6029 - binary_accuracy: 0.6961 - val_loss: 0.6003 - val_binary_accuracy: 0.6729\nEpoch 12/50\n80/80 [==============================] - 3s 42ms/step - loss: 0.5912 - binary_accuracy: 0.7084 - val_loss: 0.5912 - val_binary_accuracy: 0.6803\nEpoch 13/50\n80/80 [==============================] - 3s 42ms/step - loss: 0.5784 - binary_accuracy: 0.7243 - val_loss: 0.5795 - val_binary_accuracy: 0.7028\nEpoch 14/50\n80/80 [==============================] - 3s 42ms/step - loss: 0.5699 - binary_accuracy: 0.7321 - val_loss: 0.5707 - val_binary_accuracy: 0.7137\nEpoch 15/50\n80/80 [==============================] - 3s 42ms/step - loss: 0.5595 - binary_accuracy: 0.7430 - val_loss: 0.5645 - val_binary_accuracy: 0.7264\nEpoch 16/50\n80/80 [==============================] - 3s 42ms/step - loss: 0.5428 - binary_accuracy: 0.7549 - val_loss: 0.5546 - val_binary_accuracy: 0.7361\nEpoch 17/50\n80/80 [==============================] - 3s 42ms/step - loss: 0.5278 - binary_accuracy: 0.7602 - val_loss: 0.5162 - val_binary_accuracy: 0.7523\nEpoch 18/50\n80/80 [==============================] - 3s 42ms/step - loss: 0.4937 - binary_accuracy: 0.7755 - val_loss: 0.5005 - val_binary_accuracy: 0.7684\nEpoch 19/50\n80/80 [==============================] - 3s 42ms/step - loss: 0.4594 - binary_accuracy: 0.7932 - val_loss: 0.4801 - val_binary_accuracy: 0.7656\nEpoch 20/50\n80/80 [==============================] - 3s 42ms/step - loss: 0.4185 - binary_accuracy: 0.8231 - val_loss: 0.4486 - val_binary_accuracy: 0.7905\nEpoch 21/50\n80/80 [==============================] - 3s 42ms/step - loss: 0.3927 - binary_accuracy: 0.8298 - val_loss: 0.4392 - val_binary_accuracy: 0.7981\nEpoch 22/50\n80/80 [==============================] - 3s 42ms/step - loss: 0.3651 - binary_accuracy: 0.8472 - val_loss: 0.4709 - val_binary_accuracy: 0.7624\nEpoch 23/50\n80/80 [==============================] - 3s 42ms/step - loss: 0.3464 - binary_accuracy: 0.8536 - val_loss: 0.4714 - val_binary_accuracy: 0.7632\nEpoch 24/50\n80/80 [==============================] - 3s 42ms/step - loss: 0.3095 - binary_accuracy: 0.8751 - val_loss: 0.4379 - val_binary_accuracy: 0.7949\nEpoch 25/50\n80/80 [==============================] - 3s 42ms/step - loss: 0.2897 - binary_accuracy: 0.8853 - val_loss: 0.4845 - val_binary_accuracy: 0.7658\nEpoch 26/50\n80/80 [==============================] - 3s 42ms/step - loss: 0.2867 - binary_accuracy: 0.8800 - val_loss: 0.4065 - val_binary_accuracy: 0.8270\nEpoch 27/50\n80/80 [==============================] - 3s 42ms/step - loss: 0.2609 - binary_accuracy: 0.8960 - val_loss: 0.3928 - val_binary_accuracy: 0.8291\nEpoch 28/50\n80/80 [==============================] - 3s 42ms/step - loss: 0.2296 - binary_accuracy: 0.9097 - val_loss: 0.4607 - val_binary_accuracy: 0.8204\nEpoch 29/50\n80/80 [==============================] - 3s 42ms/step - loss: 0.2179 - binary_accuracy: 0.9152 - val_loss: 0.4470 - val_binary_accuracy: 0.8280\nEpoch 30/50\n80/80 [==============================] - 3s 42ms/step - loss: 0.1788 - binary_accuracy: 0.9341 - val_loss: 0.4749 - val_binary_accuracy: 0.8198\nEpoch 31/50\n80/80 [==============================] - 3s 42ms/step - loss: 0.1715 - binary_accuracy: 0.9390 - val_loss: 0.4814 - val_binary_accuracy: 0.8234\nEpoch 32/50\n80/80 [==============================] - 3s 41ms/step - loss: 0.1502 - binary_accuracy: 0.9437 - val_loss: 0.4014 - val_binary_accuracy: 0.8274\nEpoch 33/50\n80/80 [==============================] - 3s 42ms/step - loss: 0.1338 - binary_accuracy: 0.9547 - val_loss: 0.4942 - val_binary_accuracy: 0.8351\nEpoch 34/50\n80/80 [==============================] - 3s 42ms/step - loss: 0.1304 - binary_accuracy: 0.9572 - val_loss: 0.6260 - val_binary_accuracy: 0.8099\nEpoch 35/50\n80/80 [==============================] - 3s 42ms/step - loss: 0.1436 - binary_accuracy: 0.9486 - val_loss: 0.7334 - val_binary_accuracy: 0.7994\nEpoch 36/50\n80/80 [==============================] - 3s 42ms/step - loss: 0.1307 - binary_accuracy: 0.9539 - val_loss: 0.5860 - val_binary_accuracy: 0.8319\nEpoch 37/50\n80/80 [==============================] - 3s 42ms/step - loss: 0.1195 - binary_accuracy: 0.9594 - val_loss: 0.6748 - val_binary_accuracy: 0.8216\nEpoch 38/50\n80/80 [==============================] - 3s 42ms/step - loss: 0.1082 - binary_accuracy: 0.9668 - val_loss: 0.6319 - val_binary_accuracy: 0.8285\nEpoch 39/50\n80/80 [==============================] - 3s 42ms/step - loss: 0.1001 - binary_accuracy: 0.9695 - val_loss: 0.6410 - val_binary_accuracy: 0.8147\nEpoch 40/50\n80/80 [==============================] - 3s 42ms/step - loss: 0.0940 - binary_accuracy: 0.9691 - val_loss: 0.4960 - val_binary_accuracy: 0.8388\nEpoch 41/50\n80/80 [==============================] - 3s 42ms/step - loss: 0.1103 - binary_accuracy: 0.9652 - val_loss: 0.4768 - val_binary_accuracy: 0.8442\nEpoch 42/50\n80/80 [==============================] - 3s 42ms/step - loss: 0.0979 - binary_accuracy: 0.9715 - val_loss: 0.5135 - val_binary_accuracy: 0.8442\nEpoch 43/50\n80/80 [==============================] - 3s 42ms/step - loss: 0.0969 - binary_accuracy: 0.9721 - val_loss: 0.5699 - val_binary_accuracy: 0.8293\nEpoch 44/50\n80/80 [==============================] - 3s 42ms/step - loss: 0.0904 - binary_accuracy: 0.9726 - val_loss: 0.5185 - val_binary_accuracy: 0.8274\nEpoch 45/50\n80/80 [==============================] - 3s 42ms/step - loss: 0.0910 - binary_accuracy: 0.9730 - val_loss: 0.5715 - val_binary_accuracy: 0.8147\nEpoch 46/50\n80/80 [==============================] - 3s 42ms/step - loss: 0.0727 - binary_accuracy: 0.9814 - val_loss: 0.6342 - val_binary_accuracy: 0.8448\nEpoch 47/50\n80/80 [==============================] - 3s 42ms/step - loss: 0.0628 - binary_accuracy: 0.9848 - val_loss: 0.6681 - val_binary_accuracy: 0.8430\nEpoch 48/50\n80/80 [==============================] - 3s 42ms/step - loss: 0.0578 - binary_accuracy: 0.9898 - val_loss: 0.6762 - val_binary_accuracy: 0.8446\nEpoch 49/50\n80/80 [==============================] - 3s 42ms/step - loss: 0.0473 - binary_accuracy: 0.9924 - val_loss: 0.6536 - val_binary_accuracy: 0.8450\nEpoch 50/50\n80/80 [==============================] - 3s 42ms/step - loss: 0.0457 - binary_accuracy: 0.9912 - val_loss: 0.6941 - val_binary_accuracy: 0.8462\n",
          "output_type": "stream"
        }
      ],
      "execution_count": null
    },
    {
      "cell_type": "markdown",
      "source": [
        "And now run the cell below to plot the loss and metric curves for this training run."
      ],
      "metadata": {
        "id": "lIrg41uXhDk9"
      }
    },
    {
      "cell_type": "code",
      "source": [
        "import pandas as pd\n",
        "history_frame = pd.DataFrame(history.history)\n",
        "history_frame.loc[:, ['loss', 'val_loss']].plot()\n",
        "history_frame.loc[:, ['binary_accuracy', 'val_binary_accuracy']].plot();"
      ],
      "metadata": {
        "trusted": true,
        "execution": {
          "iopub.status.busy": "2025-10-28T15:48:25.147293Z",
          "iopub.execute_input": "2025-10-28T15:48:25.147716Z",
          "iopub.status.idle": "2025-10-28T15:48:25.701912Z",
          "shell.execute_reply.started": "2025-10-28T15:48:25.147668Z",
          "shell.execute_reply": "2025-10-28T15:48:25.700975Z"
        },
        "id": "v9KvjgtThDk9",
        "outputId": "8e814357-31b2-4402-fd75-b87ed7de17a7"
      },
      "outputs": [
        {
          "output_type": "display_data",
          "data": {
            "text/plain": "<Figure size 640x480 with 1 Axes>",
            "image/png": "[encoded data removed]"
          },
          "metadata": {}
        },
        {
          "output_type": "display_data",
          "data": {
            "text/plain": "<Figure size 640x480 with 1 Axes>",
            "image/png": "[encoded data removed]"
          },
          "metadata": {}
        }
      ],
      "execution_count": null
    },
    {
      "cell_type": "markdown",
      "source": [
        "# 3) Train the Model #\n",
        "\n",
        "How would you interpret these training curves? Did this model improve upon the model from the tutorial?"
      ],
      "metadata": {
        "id": "57dYTFmehDk-"
      }
    },
    {
      "cell_type": "code",
      "source": [
        "# View the solution (Run this code cell to receive credit!)\n",
        "q_3.check()"
      ],
      "metadata": {
        "lines_to_next_cell": 0,
        "trusted": true,
        "execution": {
          "iopub.status.busy": "2025-10-28T15:49:07.815443Z",
          "iopub.execute_input": "2025-10-28T15:49:07.816254Z",
          "iopub.status.idle": "2025-10-28T15:49:07.822853Z",
          "shell.execute_reply.started": "2025-10-28T15:49:07.816224Z",
          "shell.execute_reply": "2025-10-28T15:49:07.821894Z"
        },
        "id": "tUscpGeHhDk-",
        "outputId": "0c180bf0-1298-4e6a-d424-2239adc3ef46"
      },
      "outputs": [
        {
          "output_type": "display_data",
          "data": {
            "text/plain": "<IPython.core.display.Javascript object>",
            "application/javascript": "parent.postMessage({\"jupyterEvent\": \"custom.exercise_interaction\", \"data\": {\"outcomeType\": 1, \"valueTowardsCompletion\": 0.3333333333333333, \"interactionType\": 1, \"questionType\": 4, \"questionId\": \"3_Q3\", \"learnToolsVersion\": \"0.3.4\", \"failureMessage\": \"\", \"exceptionClass\": \"\", \"trace\": \"\"}}, \"*\")"
          },
          "metadata": {}
        },
        {
          "output_type": "display_data",
          "data": {
            "text/plain": "Correct: \n\n\nThe learning curves for the model from the tutorial diverged fairly rapidly. This would indicate that it was prone to overfitting and in need of some regularization. The additional layer in our new model would make it even more prone to overfitting. However, adding some regularization with the `Dropout` layer helped prevent this. These changes improved the validation accuracy of the model by several points.",
            "text/markdown": "<span style=\"color:#33cc33\">Correct:</span> \n\n\nThe learning curves for the model from the tutorial diverged fairly rapidly. This would indicate that it was prone to overfitting and in need of some regularization. The additional layer in our new model would make it even more prone to overfitting. However, adding some regularization with the `Dropout` layer helped prevent this. These changes improved the validation accuracy of the model by several points.\n"
          },
          "metadata": {}
        }
      ],
      "execution_count": null
    },
    {
      "cell_type": "markdown",
      "source": [
        "# Conclusion #\n",
        "\n",
        "These exercises showed you how to design a custom convolutional network to solve a specific classification problem. Though most models these days will be built on top of a pretrained base, it certain circumstances a smaller custom convnet might still be preferable -- such as with a smaller or unusual dataset or when computing resources are very limited. As you saw here, for certain problems they can perform just as well as a pretrained model.\n",
        "\n",
        "# Keep Going #\n",
        "\n",
        "Continue on to [**Lesson 6**](https://www.kaggle.com/ryanholbrook/data-augmentation), where you'll learn a widely-used technique that can give a boost to your training data: **data augmentation**."
      ],
      "metadata": {
        "id": "JVquGcKJhDk-"
      }
    },
    {
      "cell_type": "markdown",
      "source": [
        "---\n",
        "\n",
        "\n",
        "\n",
        "\n",
        "*Have questions or comments? Visit the [course discussion forum](https://www.kaggle.com/learn/computer-vision/discussion) to chat with other learners.*"
      ],
      "metadata": {
        "id": "SfrZitMehDk-"
      }
    }
  ]
}